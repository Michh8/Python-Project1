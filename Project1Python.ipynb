{
  "nbformat": 4,
  "nbformat_minor": 0,
  "metadata": {
    "colab": {
      "provenance": [],
      "authorship_tag": "ABX9TyMRSSLzFTYb6b8/2xMi7eMW",
      "include_colab_link": true
    },
    "kernelspec": {
      "name": "python3",
      "display_name": "Python 3"
    },
    "language_info": {
      "name": "python"
    }
  },
  "cells": [
    {
      "cell_type": "markdown",
      "metadata": {
        "id": "view-in-github",
        "colab_type": "text"
      },
      "source": [
        "<a href=\"https://colab.research.google.com/github/Michh8/Python-Project1/blob/main/Project1Python.ipynb\" target=\"_parent\"><img src=\"https://colab.research.google.com/assets/colab-badge.svg\" alt=\"Open In Colab\"/></a>"
      ]
    },
    {
      "cell_type": "code",
      "execution_count": null,
      "metadata": {
        "id": "oG522lL3fMzU"
      },
      "outputs": [],
      "source": [
        "pip install pandas matplotlib seaborn ydata-profiling\n"
      ]
    },
    {
      "cell_type": "code",
      "source": [
        "import pandas as pd\n",
        "import gdown\n",
        "\n",
        "# ID del archivo de Drive\n",
        "file_id = \"1ogqSNZDIL18ik826fpi3bCWjVM6NdQDf\"\n",
        "\n",
        "# Enlace de descarga directa\n",
        "url = f\"https://drive.google.com/uc?id={file_id}\"\n",
        "\n",
        "# Descargar el archivo (solo la primera vez)\n",
        "output = \"pollution_us_2000_2016.csv\"\n",
        "gdown.download(url, output, quiet=False)\n",
        "\n",
        "# Cargar solo las primeras 1000 filas\n",
        "df = pd.read_csv(output, nrows=1000)\n",
        "\n",
        "# Mostrar datos\n",
        "print(df.head())\n",
        "print(\"Tamaño del dataset limitado:\", df.shape)\n"
      ],
      "metadata": {
        "id": "taPOX_UOgeWR"
      },
      "execution_count": null,
      "outputs": []
    },
    {
      "cell_type": "code",
      "source": [
        "#En caso de tener el dataset localmente\n",
        "#import pandas as pd\n",
        "\n",
        "# Cargar solo las primeras 1000 filas del dataset\n",
        "#df = pd.read_csv(\"/content/pollution_us_2000_2016.csv\", nrows=1000)\n",
        "\n",
        "# Mostrar las primeras filas para confirmar\n",
        "#print(df.head())\n",
        "\n",
        "# Confirmar el tamaño\n",
        "#print(\"Tamaño del dataset limitado:\", df.shape)\n"
      ],
      "metadata": {
        "id": "Sjx1khxPhdMx"
      },
      "execution_count": null,
      "outputs": []
    },
    {
      "cell_type": "code",
      "source": [
        "# Tamaño del dataset\n",
        "print(\"Filas y columnas:\", df.shape)\n",
        "\n",
        "# Tipos de datos\n",
        "print(\"\\nTipos de datos:\")\n",
        "print(df.dtypes)\n",
        "\n",
        "# Revisar valores nulos\n",
        "print(\"\\nValores nulos por columna:\")\n",
        "print(df.isnull().sum())\n",
        "\n",
        "# Eliminar filas con demasiados valores nulos (si los hubiera)\n",
        "df.dropna(thresh=len(df.columns) - 2, inplace=True)  # permite hasta 2 nulos por fila\n"
      ],
      "metadata": {
        "id": "er7j7DdFg7TL"
      },
      "execution_count": null,
      "outputs": []
    },
    {
      "cell_type": "code",
      "source": [
        "# Eliminar columnas constantes mencionadas en la documentación\n",
        "df = df.drop(columns=['State', 'City', 'Address'])\n",
        "\n",
        "# Eliminar filas con valores nulos en las columnas 'SO2 AQI' y 'CO AQI'\n",
        "df = df.dropna(subset=['SO2 AQI', 'CO AQI'])\n",
        "\n",
        "# Convertir la columna 'Date Local' a formato de fecha\n",
        "df['Date Local'] = pd.to_datetime(df['Date Local'], errors='coerce')\n",
        "\n",
        "# Verificar si quedaron valores nulos después de la limpieza\n",
        "print(\"\\nValores nulos después de limpieza:\")\n",
        "print(df.isnull().sum())\n"
      ],
      "metadata": {
        "id": "rfUq7t-lhmOS"
      },
      "execution_count": null,
      "outputs": []
    },
    {
      "cell_type": "code",
      "source": [
        "from ydata_profiling import ProfileReport\n",
        "\n",
        "# Crear el informe sin pasar configuraciones incompatibles\n",
        "profile = ProfileReport(\n",
        "    df,\n",
        "    title=\"Análisis Exploratorio de Datos - Contaminación del Aire en EE.UU.\",\n",
        "    explorative=True\n",
        ")\n",
        "\n",
        "# Guardar el informe como HTML\n",
        "profile.to_file(\"EDA_Contaminacion_USA.html\")\n",
        "\n"
      ],
      "metadata": {
        "id": "XuAF9JXAh-5Z"
      },
      "execution_count": null,
      "outputs": []
    },
    {
      "cell_type": "code",
      "source": [
        "import seaborn as sns\n",
        "sns.pairplot(df)\n"
      ],
      "metadata": {
        "id": "1LqHyOaSjLFL"
      },
      "execution_count": null,
      "outputs": []
    },
    {
      "cell_type": "code",
      "source": [],
      "metadata": {
        "id": "CTNKgBM5meFE"
      },
      "execution_count": null,
      "outputs": []
    }
  ]
}